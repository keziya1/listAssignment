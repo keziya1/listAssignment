{
 "cells": [
  {
   "cell_type": "code",
   "execution_count": 1,
   "id": "6d452899-12fb-4b99-b360-ce0f2e8eab6e",
   "metadata": {},
   "outputs": [],
   "source": [
    "#1. Create a string variable and print its length.\n",
    "\n",
    "s = \"keziya\""
   ]
  },
  {
   "cell_type": "code",
   "execution_count": 2,
   "id": "613a91cd-2b13-4ad8-8030-5781a015f0cc",
   "metadata": {},
   "outputs": [
    {
     "data": {
      "text/plain": [
       "6"
      ]
     },
     "execution_count": 2,
     "metadata": {},
     "output_type": "execute_result"
    }
   ],
   "source": [
    "len(s)"
   ]
  },
  {
   "cell_type": "code",
   "execution_count": 3,
   "id": "c00c4a77-e29f-47ef-80a6-24a90efe5817",
   "metadata": {},
   "outputs": [
    {
     "name": "stdin",
     "output_type": "stream",
     "text": [
      "enter the string keziya\n"
     ]
    }
   ],
   "source": [
    "2#.Take a string input from the user and print it in reverse.\n",
    "user = input(\"enter the string\")\n",
    "reverse_string = user[::-1]"
   ]
  },
  {
   "cell_type": "raw",
   "id": "33c754cb-4b95-4b76-aea7-ae19ded37ca8",
   "metadata": {},
   "source": [
    "print(\"reverse string\", reverse_string)"
   ]
  },
  {
   "cell_type": "code",
   "execution_count": 5,
   "id": "50123397-504c-4910-a75a-74a5f4926f7e",
   "metadata": {},
   "outputs": [
    {
     "name": "stdout",
     "output_type": "stream",
     "text": [
      "reverse string is ayizek\n"
     ]
    }
   ],
   "source": [
    "print(\"reverse string is\", reverse_string)"
   ]
  },
  {
   "cell_type": "code",
   "execution_count": 15,
   "id": "ce344477-4cbe-41e3-80ba-7c227d31e6bc",
   "metadata": {},
   "outputs": [
    {
     "name": "stdout",
     "output_type": "stream",
     "text": [
      "keziy@\n"
     ]
    }
   ],
   "source": [
    "#3. Replace all occurrences of \"a\" with \"@\" in a given string.\n",
    "s=\"keziya\"\n",
    "s = s.replace('a','@')\n",
    "print(s)"
   ]
  },
  {
   "cell_type": "code",
   "execution_count": null,
   "id": "d16804ad-f2c9-45bc-bd67-0f9f2e39aee0",
   "metadata": {},
   "outputs": [],
   "source": [
    "#4. Convert a string to all uppercase letters using a loop (without .upper()).\n",
    "s = \"keziya\"\n",
    "\n"
   ]
  },
  {
   "cell_type": "code",
   "execution_count": 16,
   "id": "7e21573a-0b6c-4fe5-bf60-d431f6825d32",
   "metadata": {},
   "outputs": [
    {
     "data": {
      "text/plain": [
       "1"
      ]
     },
     "execution_count": 16,
     "metadata": {},
     "output_type": "execute_result"
    }
   ],
   "source": [
    "#5. Count how many times the letter \"e\" appears in a string.\n",
    "\n",
    "s = \"keziya\"\n",
    "s.count('e')"
   ]
  },
  {
   "cell_type": "code",
   "execution_count": 17,
   "id": "868bf06d-7b71-4c18-b6d7-9e5480f7aaed",
   "metadata": {},
   "outputs": [
    {
     "name": "stdout",
     "output_type": "stream",
     "text": [
      "First character: k\n",
      "Last character: a\n"
     ]
    }
   ],
   "source": [
    "#6. Print the first and last character of a given string.\n",
    "s = \"keziya\"\n",
    "if len(s) > 0:\n",
    "    print(\"First character:\", s[0])\n",
    "    print(\"Last character:\", s[-1])\n",
    "else:\n",
    "    print(\"The string is empty.\")"
   ]
  },
  {
   "cell_type": "code",
   "execution_count": 21,
   "id": "ed8a1a18-51ba-4cc5-93a4-4cdce89d3d5d",
   "metadata": {},
   "outputs": [
    {
     "data": {
      "text/plain": [
       "'keziyayepuri'"
      ]
     },
     "execution_count": 21,
     "metadata": {},
     "output_type": "execute_result"
    }
   ],
   "source": [
    "#7. Concatenate two strings and print the result.\n",
    "s = \"keziya\"\n",
    "s + \"yepuri\"\n"
   ]
  },
  {
   "cell_type": "code",
   "execution_count": 28,
   "id": "fbb8afd0-f942-40d1-96ed-1828706c394b",
   "metadata": {},
   "outputs": [
    {
     "data": {
      "text/plain": [
       "False"
      ]
     },
     "execution_count": 28,
     "metadata": {},
     "output_type": "execute_result"
    }
   ],
   "source": [
    "#8. Check if a given string contains the word \"Python\".\n",
    "s = \"keziya yepuri\"\n",
    "\"Python\" in s\n"
   ]
  },
  {
   "cell_type": "code",
   "execution_count": 32,
   "id": "51802be7-c210-479a-aac9-e3f1d169c574",
   "metadata": {},
   "outputs": [
    {
     "data": {
      "text/plain": [
       "'Thisismyfirstpythonprogram'"
      ]
     },
     "execution_count": 32,
     "metadata": {},
     "output_type": "execute_result"
    }
   ],
   "source": [
    "#9. Remove all spaces from a string and print the new string.\n",
    "s = \" This is my first python program\"\n",
    "\"\".join(s.split()) \n"
   ]
  },
  {
   "cell_type": "code",
   "execution_count": 35,
   "id": "40f00d06-e000-4374-8a6f-f25a42dd9697",
   "metadata": {},
   "outputs": [],
   "source": [
    "s = \"This is my first python program\"\n",
    "s = s.replace(\" \", \"\")\n"
   ]
  },
  {
   "cell_type": "code",
   "execution_count": 36,
   "id": "6b7739ed-dca8-4e5f-9530-5a9f33a703d8",
   "metadata": {},
   "outputs": [
    {
     "data": {
      "text/plain": [
       "'Thisismyfirstpythonprogram'"
      ]
     },
     "execution_count": 36,
     "metadata": {},
     "output_type": "execute_result"
    }
   ],
   "source": [
    "s"
   ]
  },
  {
   "cell_type": "code",
   "execution_count": 38,
   "id": "564ec44f-35f1-4ac8-9c6e-41a50449a62a",
   "metadata": {},
   "outputs": [
    {
     "data": {
      "text/plain": [
       "'keziy'"
      ]
     },
     "execution_count": 38,
     "metadata": {},
     "output_type": "execute_result"
    }
   ],
   "source": [
    "#10.Extract and print the first five characters of a string.\n",
    "s = \"keziya yepuri\"\n",
    "s[:5]"
   ]
  },
  {
   "cell_type": "code",
   "execution_count": 41,
   "id": "6d7ed5b6-77c7-4164-91ed-c0110a78852a",
   "metadata": {},
   "outputs": [
    {
     "name": "stdout",
     "output_type": "stream",
     "text": [
      "[1, 2, 3, 4, 5]\n"
     ]
    }
   ],
   "source": [
    "#11.Create a list of five numbers and print the list.\n",
    "l = [1,2,3,4,5,]\n",
    "print(l)\n"
   ]
  },
  {
   "cell_type": "code",
   "execution_count": 44,
   "id": "62ee7521-0929-44c4-a240-091e9f7dcdca",
   "metadata": {},
   "outputs": [
    {
     "data": {
      "text/plain": [
       "3"
      ]
     },
     "execution_count": 44,
     "metadata": {},
     "output_type": "execute_result"
    }
   ],
   "source": [
    "#12.Print the third element of a given list.\n",
    "l = [1,2,3,4,5]\n",
    "l[2]\n"
   ]
  },
  {
   "cell_type": "code",
   "execution_count": 48,
   "id": "d663c294-07cd-4d7e-b0e8-f8207f451043",
   "metadata": {},
   "outputs": [],
   "source": [
    "#13.Replace the second element of a list with \"hello\".\n",
    "l = [1,2,3,4,5]\n",
    "l[1] = \"hello\"\n",
    "\n"
   ]
  },
  {
   "cell_type": "code",
   "execution_count": 49,
   "id": "b21d823e-faf4-4ef5-9a63-8a6c19151b2c",
   "metadata": {},
   "outputs": [
    {
     "data": {
      "text/plain": [
       "[1, 'hello', 3, 4, 5]"
      ]
     },
     "execution_count": 49,
     "metadata": {},
     "output_type": "execute_result"
    }
   ],
   "source": [
    "l"
   ]
  },
  {
   "cell_type": "code",
   "execution_count": 50,
   "id": "758023e5-805c-4d9f-93f7-097b97acac99",
   "metadata": {},
   "outputs": [],
   "source": [
    "#14.Add a new element to the end of a list.\n",
    "l = [1,2,3,4,5]\n",
    "l.append(\"keziya\")\n"
   ]
  },
  {
   "cell_type": "code",
   "execution_count": 51,
   "id": "9d17534a-40c6-4676-8f29-10c76ff34f22",
   "metadata": {},
   "outputs": [
    {
     "data": {
      "text/plain": [
       "[1, 2, 3, 4, 5, 'keziya']"
      ]
     },
     "execution_count": 51,
     "metadata": {},
     "output_type": "execute_result"
    }
   ],
   "source": [
    "l"
   ]
  },
  {
   "cell_type": "code",
   "execution_count": 61,
   "id": "c21c4e4e-4f92-4caa-8ebd-8033efa5b507",
   "metadata": {},
   "outputs": [
    {
     "data": {
      "text/plain": [
       "'keziya'"
      ]
     },
     "execution_count": 61,
     "metadata": {},
     "output_type": "execute_result"
    }
   ],
   "source": [
    "#15.Remove the last element from a list and print the modified list.\n",
    "l = [1,2,3,4,5,6,\"keziya\"]\n",
    "l.pop()\n"
   ]
  },
  {
   "cell_type": "code",
   "execution_count": 62,
   "id": "a6f8ec63-7197-4e25-9313-52fc19e66666",
   "metadata": {},
   "outputs": [
    {
     "data": {
      "text/plain": [
       "[1, 2, 3, 4, 5, 6]"
      ]
     },
     "execution_count": 62,
     "metadata": {},
     "output_type": "execute_result"
    }
   ],
   "source": [
    "l"
   ]
  },
  {
   "cell_type": "code",
   "execution_count": 64,
   "id": "502e974d-2d5d-46e0-a54b-becc9b136cac",
   "metadata": {},
   "outputs": [
    {
     "name": "stdout",
     "output_type": "stream",
     "text": [
      "1\n",
      "2\n",
      "3\n",
      "4\n",
      "5\n",
      "keziya\n"
     ]
    }
   ],
   "source": [
    "#16.Print each element of a list one by one using a loop.\n",
    "\n",
    "l = [1, 2, 3, 4, 5, \"keziya\"]\n",
    "\n",
    "for item in l:\n",
    "    print(item)\n",
    "\n"
   ]
  },
  {
   "cell_type": "code",
   "execution_count": 65,
   "id": "44b44bc1-d824-4817-af8a-0cf2fe53e63d",
   "metadata": {},
   "outputs": [
    {
     "data": {
      "text/plain": [
       "False"
      ]
     },
     "execution_count": 65,
     "metadata": {},
     "output_type": "execute_result"
    }
   ],
   "source": [
    "#17.Check if the number 10 is in a given list.\n",
    "l = [1,2,3,4,5,5,8,5,9,5]\n",
    "10 in l\n",
    "\n"
   ]
  },
  {
   "cell_type": "code",
   "execution_count": 69,
   "id": "c30687ee-29ab-418d-9d32-c935d972c60a",
   "metadata": {},
   "outputs": [],
   "source": [
    "#18.Create two lists and join them into one.\n",
    "l1 = [2,3,4,5,6]\n",
    "l2 = [7,6,4,8,4]\n",
    "\n"
   ]
  },
  {
   "cell_type": "code",
   "execution_count": 70,
   "id": "693439ee-72b3-4d3b-934e-cd143755679e",
   "metadata": {},
   "outputs": [],
   "source": [
    "l3 = l1 + l2"
   ]
  },
  {
   "cell_type": "code",
   "execution_count": 71,
   "id": "257bdcbd-4dd9-4c69-a677-e17b90f0fd7c",
   "metadata": {},
   "outputs": [
    {
     "data": {
      "text/plain": [
       "[2, 3, 4, 5, 6, 7, 6, 4, 8, 4]"
      ]
     },
     "execution_count": 71,
     "metadata": {},
     "output_type": "execute_result"
    }
   ],
   "source": [
    "l3"
   ]
  },
  {
   "cell_type": "code",
   "execution_count": 72,
   "id": "d0d911ee-8227-4f1a-ad6a-0edd64afb53d",
   "metadata": {},
   "outputs": [],
   "source": [
    "#19.Print a list in reverse order without using slicing ([::-1]).\n",
    "l = [1,2,3,4,5]\n",
    "l.reverse()\n",
    "\n"
   ]
  },
  {
   "cell_type": "code",
   "execution_count": 73,
   "id": "24e34d66-635a-4f96-a069-d7a28b382fbe",
   "metadata": {},
   "outputs": [
    {
     "data": {
      "text/plain": [
       "[5, 4, 3, 2, 1]"
      ]
     },
     "execution_count": 73,
     "metadata": {},
     "output_type": "execute_result"
    }
   ],
   "source": [
    "l"
   ]
  },
  {
   "cell_type": "code",
   "execution_count": 74,
   "id": "f4b576e0-8bbc-4c77-a618-9c7b15092d3c",
   "metadata": {},
   "outputs": [
    {
     "name": "stdout",
     "output_type": "stream",
     "text": [
      "Sorted list: [0, 1, 3, 5, 6, 8, 9]\n"
     ]
    }
   ],
   "source": [
    "#20.Sort a list in ascending order without using .sort().\n",
    "\n",
    "l = [5, 8, 3, 9, 6, 0, 1]\n",
    "\n",
    "# we using Simple Bubble Sort\n",
    "for i in range(len(l)):\n",
    "    for j in range(len(l) - 1):\n",
    "        if l[j] > l[j + 1]:\n",
    "        \n",
    "            l[j], l[j + 1] = l[j + 1], l[j]\n",
    "\n",
    "print(\"Sorted list:\", l)\n",
    "\n"
   ]
  },
  {
   "cell_type": "code",
   "execution_count": null,
   "id": "688b242b-3615-4f93-95ac-b23ba01e79a6",
   "metadata": {},
   "outputs": [],
   "source": []
  }
 ],
 "metadata": {
  "kernelspec": {
   "display_name": "Python [conda env:base] *",
   "language": "python",
   "name": "conda-base-py"
  },
  "language_info": {
   "codemirror_mode": {
    "name": "ipython",
    "version": 3
   },
   "file_extension": ".py",
   "mimetype": "text/x-python",
   "name": "python",
   "nbconvert_exporter": "python",
   "pygments_lexer": "ipython3",
   "version": "3.13.5"
  }
 },
 "nbformat": 4,
 "nbformat_minor": 5
}
